{
  "nbformat": 4,
  "nbformat_minor": 0,
  "metadata": {
    "colab": {
      "provenance": [],
      "machine_shape": "hm",
      "gpuType": "T4"
    },
    "kernelspec": {
      "name": "python3",
      "display_name": "Python 3"
    },
    "language_info": {
      "name": "python"
    },
    "accelerator": "GPU"
  },
  "cells": [
    {
      "cell_type": "code",
      "source": [
        "\n",
        "\n",
        "!pip install transformers"
      ],
      "metadata": {
        "colab": {
          "base_uri": "https://localhost:8080/"
        },
        "id": "FVrjmAuXlhZs",
        "outputId": "71f3e70f-f005-42f5-d47d-e64b985fed29"
      },
      "execution_count": 37,
      "outputs": [
        {
          "output_type": "stream",
          "name": "stdout",
          "text": [
            "Requirement already satisfied: transformers in /usr/local/lib/python3.10/dist-packages (4.32.0)\n",
            "Requirement already satisfied: filelock in /usr/local/lib/python3.10/dist-packages (from transformers) (3.12.2)\n",
            "Requirement already satisfied: huggingface-hub<1.0,>=0.15.1 in /usr/local/lib/python3.10/dist-packages (from transformers) (0.16.4)\n",
            "Requirement already satisfied: numpy>=1.17 in /usr/local/lib/python3.10/dist-packages (from transformers) (1.23.5)\n",
            "Requirement already satisfied: packaging>=20.0 in /usr/local/lib/python3.10/dist-packages (from transformers) (23.1)\n",
            "Requirement already satisfied: pyyaml>=5.1 in /usr/local/lib/python3.10/dist-packages (from transformers) (6.0.1)\n",
            "Requirement already satisfied: regex!=2019.12.17 in /usr/local/lib/python3.10/dist-packages (from transformers) (2023.6.3)\n",
            "Requirement already satisfied: requests in /usr/local/lib/python3.10/dist-packages (from transformers) (2.31.0)\n",
            "Requirement already satisfied: tokenizers!=0.11.3,<0.14,>=0.11.1 in /usr/local/lib/python3.10/dist-packages (from transformers) (0.13.3)\n",
            "Requirement already satisfied: safetensors>=0.3.1 in /usr/local/lib/python3.10/dist-packages (from transformers) (0.3.3)\n",
            "Requirement already satisfied: tqdm>=4.27 in /usr/local/lib/python3.10/dist-packages (from transformers) (4.66.1)\n",
            "Requirement already satisfied: fsspec in /usr/local/lib/python3.10/dist-packages (from huggingface-hub<1.0,>=0.15.1->transformers) (2023.6.0)\n",
            "Requirement already satisfied: typing-extensions>=3.7.4.3 in /usr/local/lib/python3.10/dist-packages (from huggingface-hub<1.0,>=0.15.1->transformers) (4.7.1)\n",
            "Requirement already satisfied: charset-normalizer<4,>=2 in /usr/local/lib/python3.10/dist-packages (from requests->transformers) (3.2.0)\n",
            "Requirement already satisfied: idna<4,>=2.5 in /usr/local/lib/python3.10/dist-packages (from requests->transformers) (3.4)\n",
            "Requirement already satisfied: urllib3<3,>=1.21.1 in /usr/local/lib/python3.10/dist-packages (from requests->transformers) (2.0.4)\n",
            "Requirement already satisfied: certifi>=2017.4.17 in /usr/local/lib/python3.10/dist-packages (from requests->transformers) (2023.7.22)\n"
          ]
        }
      ]
    },
    {
      "cell_type": "markdown",
      "source": [
        "https://github.com/almarengo/gpt2-text-classification/blob/main/GPT2_Transfer_Learning_final.ipynb\n"
      ],
      "metadata": {
        "id": "C09SR49PmWPV"
      }
    },
    {
      "cell_type": "code",
      "source": [
        "import math\n",
        "import tensorflow as tf\n",
        "from transformers import GPT2Tokenizer, TFGPT2Model\n",
        "from sklearn.model_selection import train_test_split"
      ],
      "metadata": {
        "id": "iM7XzWLalhek"
      },
      "execution_count": 38,
      "outputs": []
    },
    {
      "cell_type": "code",
      "source": [
        "!pip install h5py\n",
        "!pip install typing-extensions\n",
        "!pip install wheel"
      ],
      "metadata": {
        "colab": {
          "base_uri": "https://localhost:8080/"
        },
        "id": "_ty2u4375af-",
        "outputId": "089b1c84-a2e7-40e7-e3db-7e912d5d860a"
      },
      "execution_count": 39,
      "outputs": [
        {
          "output_type": "stream",
          "name": "stdout",
          "text": [
            "Requirement already satisfied: h5py in /usr/local/lib/python3.10/dist-packages (3.9.0)\n",
            "Requirement already satisfied: numpy>=1.17.3 in /usr/local/lib/python3.10/dist-packages (from h5py) (1.23.5)\n",
            "Requirement already satisfied: typing-extensions in /usr/local/lib/python3.10/dist-packages (4.7.1)\n",
            "Requirement already satisfied: wheel in /usr/local/lib/python3.10/dist-packages (0.41.2)\n"
          ]
        }
      ]
    },
    {
      "cell_type": "code",
      "source": [
        "!pip install -q transformers\n",
        "!pip install -q simpletransformers\n",
        "!pip install -q datasets"
      ],
      "metadata": {
        "id": "v9ZxATaa5nJy"
      },
      "execution_count": 40,
      "outputs": []
    },
    {
      "cell_type": "code",
      "source": [
        "import pandas as pd\n",
        "from datasets import load_dataset\n",
        "\n",
        "dataset_train = load_dataset('imdb',split='train')\n",
        "#aset_train.rename_column_('label', 'labels')\n",
        "train_df=pd.DataFrame(dataset_train)\n",
        "\n",
        "dataset_test = load_dataset('imdb',split='test')\n",
        "#dataset_test.rename_column_('label', 'labels')\n",
        "test_df=pd.DataFrame(dataset_test)"
      ],
      "metadata": {
        "id": "_A1SGS2c5fs6"
      },
      "execution_count": 41,
      "outputs": []
    },
    {
      "cell_type": "code",
      "source": [
        "# Concatenate train and test DataFrames\n",
        "combined_df = pd.concat([train_df, test_df], ignore_index=True)"
      ],
      "metadata": {
        "id": "8qRyzkRX6HU4"
      },
      "execution_count": 42,
      "outputs": []
    },
    {
      "cell_type": "code",
      "source": [
        "df=combined_df"
      ],
      "metadata": {
        "id": "_4R9ItWd6K31"
      },
      "execution_count": 43,
      "outputs": []
    },
    {
      "cell_type": "code",
      "source": [
        "df.head()"
      ],
      "metadata": {
        "id": "B229yH7NxxS6",
        "colab": {
          "base_uri": "https://localhost:8080/",
          "height": 206
        },
        "outputId": "8e203d67-1dde-4c2b-fd23-84e5920e41c8"
      },
      "execution_count": 44,
      "outputs": [
        {
          "output_type": "execute_result",
          "data": {
            "text/plain": [
              "                                                text  label\n",
              "0  I rented I AM CURIOUS-YELLOW from my video sto...      0\n",
              "1  \"I Am Curious: Yellow\" is a risible and preten...      0\n",
              "2  If only to avoid making this type of film in t...      0\n",
              "3  This film was probably inspired by Godard's Ma...      0\n",
              "4  Oh, brother...after hearing about this ridicul...      0"
            ],
            "text/html": [
              "\n",
              "  <div id=\"df-9f8e2c52-6ccc-48cb-8871-1261c99fc124\" class=\"colab-df-container\">\n",
              "    <div>\n",
              "<style scoped>\n",
              "    .dataframe tbody tr th:only-of-type {\n",
              "        vertical-align: middle;\n",
              "    }\n",
              "\n",
              "    .dataframe tbody tr th {\n",
              "        vertical-align: top;\n",
              "    }\n",
              "\n",
              "    .dataframe thead th {\n",
              "        text-align: right;\n",
              "    }\n",
              "</style>\n",
              "<table border=\"1\" class=\"dataframe\">\n",
              "  <thead>\n",
              "    <tr style=\"text-align: right;\">\n",
              "      <th></th>\n",
              "      <th>text</th>\n",
              "      <th>label</th>\n",
              "    </tr>\n",
              "  </thead>\n",
              "  <tbody>\n",
              "    <tr>\n",
              "      <th>0</th>\n",
              "      <td>I rented I AM CURIOUS-YELLOW from my video sto...</td>\n",
              "      <td>0</td>\n",
              "    </tr>\n",
              "    <tr>\n",
              "      <th>1</th>\n",
              "      <td>\"I Am Curious: Yellow\" is a risible and preten...</td>\n",
              "      <td>0</td>\n",
              "    </tr>\n",
              "    <tr>\n",
              "      <th>2</th>\n",
              "      <td>If only to avoid making this type of film in t...</td>\n",
              "      <td>0</td>\n",
              "    </tr>\n",
              "    <tr>\n",
              "      <th>3</th>\n",
              "      <td>This film was probably inspired by Godard's Ma...</td>\n",
              "      <td>0</td>\n",
              "    </tr>\n",
              "    <tr>\n",
              "      <th>4</th>\n",
              "      <td>Oh, brother...after hearing about this ridicul...</td>\n",
              "      <td>0</td>\n",
              "    </tr>\n",
              "  </tbody>\n",
              "</table>\n",
              "</div>\n",
              "    <div class=\"colab-df-buttons\">\n",
              "\n",
              "  <div class=\"colab-df-container\">\n",
              "    <button class=\"colab-df-convert\" onclick=\"convertToInteractive('df-9f8e2c52-6ccc-48cb-8871-1261c99fc124')\"\n",
              "            title=\"Convert this dataframe to an interactive table.\"\n",
              "            style=\"display:none;\">\n",
              "\n",
              "  <svg xmlns=\"http://www.w3.org/2000/svg\" height=\"24px\" viewBox=\"0 -960 960 960\">\n",
              "    <path d=\"M120-120v-720h720v720H120Zm60-500h600v-160H180v160Zm220 220h160v-160H400v160Zm0 220h160v-160H400v160ZM180-400h160v-160H180v160Zm440 0h160v-160H620v160ZM180-180h160v-160H180v160Zm440 0h160v-160H620v160Z\"/>\n",
              "  </svg>\n",
              "    </button>\n",
              "\n",
              "  <style>\n",
              "    .colab-df-container {\n",
              "      display:flex;\n",
              "      gap: 12px;\n",
              "    }\n",
              "\n",
              "    .colab-df-convert {\n",
              "      background-color: #E8F0FE;\n",
              "      border: none;\n",
              "      border-radius: 50%;\n",
              "      cursor: pointer;\n",
              "      display: none;\n",
              "      fill: #1967D2;\n",
              "      height: 32px;\n",
              "      padding: 0 0 0 0;\n",
              "      width: 32px;\n",
              "    }\n",
              "\n",
              "    .colab-df-convert:hover {\n",
              "      background-color: #E2EBFA;\n",
              "      box-shadow: 0px 1px 2px rgba(60, 64, 67, 0.3), 0px 1px 3px 1px rgba(60, 64, 67, 0.15);\n",
              "      fill: #174EA6;\n",
              "    }\n",
              "\n",
              "    .colab-df-buttons div {\n",
              "      margin-bottom: 4px;\n",
              "    }\n",
              "\n",
              "    [theme=dark] .colab-df-convert {\n",
              "      background-color: #3B4455;\n",
              "      fill: #D2E3FC;\n",
              "    }\n",
              "\n",
              "    [theme=dark] .colab-df-convert:hover {\n",
              "      background-color: #434B5C;\n",
              "      box-shadow: 0px 1px 3px 1px rgba(0, 0, 0, 0.15);\n",
              "      filter: drop-shadow(0px 1px 2px rgba(0, 0, 0, 0.3));\n",
              "      fill: #FFFFFF;\n",
              "    }\n",
              "  </style>\n",
              "\n",
              "    <script>\n",
              "      const buttonEl =\n",
              "        document.querySelector('#df-9f8e2c52-6ccc-48cb-8871-1261c99fc124 button.colab-df-convert');\n",
              "      buttonEl.style.display =\n",
              "        google.colab.kernel.accessAllowed ? 'block' : 'none';\n",
              "\n",
              "      async function convertToInteractive(key) {\n",
              "        const element = document.querySelector('#df-9f8e2c52-6ccc-48cb-8871-1261c99fc124');\n",
              "        const dataTable =\n",
              "          await google.colab.kernel.invokeFunction('convertToInteractive',\n",
              "                                                    [key], {});\n",
              "        if (!dataTable) return;\n",
              "\n",
              "        const docLinkHtml = 'Like what you see? Visit the ' +\n",
              "          '<a target=\"_blank\" href=https://colab.research.google.com/notebooks/data_table.ipynb>data table notebook</a>'\n",
              "          + ' to learn more about interactive tables.';\n",
              "        element.innerHTML = '';\n",
              "        dataTable['output_type'] = 'display_data';\n",
              "        await google.colab.output.renderOutput(dataTable, element);\n",
              "        const docLink = document.createElement('div');\n",
              "        docLink.innerHTML = docLinkHtml;\n",
              "        element.appendChild(docLink);\n",
              "      }\n",
              "    </script>\n",
              "  </div>\n",
              "\n",
              "\n",
              "<div id=\"df-ecac178a-ab0e-447e-88cb-bf55a5b457ab\">\n",
              "  <button class=\"colab-df-quickchart\" onclick=\"quickchart('df-ecac178a-ab0e-447e-88cb-bf55a5b457ab')\"\n",
              "            title=\"Suggest charts.\"\n",
              "            style=\"display:none;\">\n",
              "\n",
              "<svg xmlns=\"http://www.w3.org/2000/svg\" height=\"24px\"viewBox=\"0 0 24 24\"\n",
              "     width=\"24px\">\n",
              "    <g>\n",
              "        <path d=\"M19 3H5c-1.1 0-2 .9-2 2v14c0 1.1.9 2 2 2h14c1.1 0 2-.9 2-2V5c0-1.1-.9-2-2-2zM9 17H7v-7h2v7zm4 0h-2V7h2v10zm4 0h-2v-4h2v4z\"/>\n",
              "    </g>\n",
              "</svg>\n",
              "  </button>\n",
              "\n",
              "<style>\n",
              "  .colab-df-quickchart {\n",
              "    background-color: #E8F0FE;\n",
              "    border: none;\n",
              "    border-radius: 50%;\n",
              "    cursor: pointer;\n",
              "    display: none;\n",
              "    fill: #1967D2;\n",
              "    height: 32px;\n",
              "    padding: 0 0 0 0;\n",
              "    width: 32px;\n",
              "  }\n",
              "\n",
              "  .colab-df-quickchart:hover {\n",
              "    background-color: #E2EBFA;\n",
              "    box-shadow: 0px 1px 2px rgba(60, 64, 67, 0.3), 0px 1px 3px 1px rgba(60, 64, 67, 0.15);\n",
              "    fill: #174EA6;\n",
              "  }\n",
              "\n",
              "  [theme=dark] .colab-df-quickchart {\n",
              "    background-color: #3B4455;\n",
              "    fill: #D2E3FC;\n",
              "  }\n",
              "\n",
              "  [theme=dark] .colab-df-quickchart:hover {\n",
              "    background-color: #434B5C;\n",
              "    box-shadow: 0px 1px 3px 1px rgba(0, 0, 0, 0.15);\n",
              "    filter: drop-shadow(0px 1px 2px rgba(0, 0, 0, 0.3));\n",
              "    fill: #FFFFFF;\n",
              "  }\n",
              "</style>\n",
              "\n",
              "  <script>\n",
              "    async function quickchart(key) {\n",
              "      const charts = await google.colab.kernel.invokeFunction(\n",
              "          'suggestCharts', [key], {});\n",
              "    }\n",
              "    (() => {\n",
              "      let quickchartButtonEl =\n",
              "        document.querySelector('#df-ecac178a-ab0e-447e-88cb-bf55a5b457ab button');\n",
              "      quickchartButtonEl.style.display =\n",
              "        google.colab.kernel.accessAllowed ? 'block' : 'none';\n",
              "    })();\n",
              "  </script>\n",
              "</div>\n",
              "    </div>\n",
              "  </div>\n"
            ]
          },
          "metadata": {},
          "execution_count": 44
        }
      ]
    },
    {
      "cell_type": "code",
      "source": [
        "from sklearn.model_selection import train_test_split"
      ],
      "metadata": {
        "id": "sSBpML3mlhq9"
      },
      "execution_count": 45,
      "outputs": []
    },
    {
      "cell_type": "code",
      "source": [
        "df.columns"
      ],
      "metadata": {
        "id": "NLrey-Culht4",
        "colab": {
          "base_uri": "https://localhost:8080/"
        },
        "outputId": "aef9bf4e-ed2f-4050-e18c-dd47f10b2788"
      },
      "execution_count": 46,
      "outputs": [
        {
          "output_type": "execute_result",
          "data": {
            "text/plain": [
              "Index(['text', 'label'], dtype='object')"
            ]
          },
          "metadata": {},
          "execution_count": 46
        }
      ]
    },
    {
      "cell_type": "code",
      "source": [
        "X = df['text']\n",
        "y = df['label']\n",
        "\n",
        "X_train, X_test, y_train, y_test = train_test_split(X, y, stratify=y)"
      ],
      "metadata": {
        "id": "AU73Hf69lhwl"
      },
      "execution_count": 47,
      "outputs": []
    },
    {
      "cell_type": "code",
      "source": [
        "print(X_train.shape)\n",
        "print(X_test.shape)"
      ],
      "metadata": {
        "id": "5zvV1xxelhzc",
        "colab": {
          "base_uri": "https://localhost:8080/"
        },
        "outputId": "edc93b5a-4312-492c-87f3-4577afb8d1a0"
      },
      "execution_count": 48,
      "outputs": [
        {
          "output_type": "stream",
          "name": "stdout",
          "text": [
            "(37500,)\n",
            "(12500,)\n"
          ]
        }
      ]
    },
    {
      "cell_type": "code",
      "source": [
        "type(X_train)"
      ],
      "metadata": {
        "colab": {
          "base_uri": "https://localhost:8080/"
        },
        "id": "UI1AAAK-qjgk",
        "outputId": "709528b8-d252-487b-b2df-fcf7677106b0"
      },
      "execution_count": 49,
      "outputs": [
        {
          "output_type": "execute_result",
          "data": {
            "text/plain": [
              "pandas.core.series.Series"
            ]
          },
          "metadata": {},
          "execution_count": 49
        }
      ]
    },
    {
      "cell_type": "code",
      "source": [
        "MAX_LENGTH = math.ceil((X_train.apply(lambda x: len(str(x).split())).mean()))+2\n",
        "MAX_LENGTH"
      ],
      "metadata": {
        "id": "2x_fF_CDlh2i",
        "colab": {
          "base_uri": "https://localhost:8080/"
        },
        "outputId": "47340e63-4820-4be6-e5f4-616209b4a013"
      },
      "execution_count": 50,
      "outputs": [
        {
          "output_type": "execute_result",
          "data": {
            "text/plain": [
              "234"
            ]
          },
          "metadata": {},
          "execution_count": 50
        }
      ]
    },
    {
      "cell_type": "code",
      "source": [
        "PAD_TOKEN = \"<|pad|>\"\n",
        "EOS_TOKEN = \"<|endoftext|>\"\n",
        "\n",
        "# this will download and initialize the pre trained tokenizer\n",
        "tokenizer = GPT2Tokenizer.from_pretrained(\"gpt2\",\n",
        "    pad_token=PAD_TOKEN,\n",
        "    eos_token=EOS_TOKEN,\n",
        "    max_length=MAX_LENGTH,\n",
        "    is_split_into_words=True)"
      ],
      "metadata": {
        "id": "1nJwHrE1lh54",
        "colab": {
          "base_uri": "https://localhost:8080/"
        },
        "outputId": "7119c668-87bb-45cd-ae29-61741f041c18"
      },
      "execution_count": 51,
      "outputs": [
        {
          "output_type": "stream",
          "name": "stderr",
          "text": [
            "Special tokens have been added in the vocabulary, make sure the associated word embeddings are fine-tuned or trained.\n"
          ]
        }
      ]
    },
    {
      "cell_type": "code",
      "source": [
        "X_train = [str(ex) + EOS_TOKEN for ex in X_train]\n",
        "X_test = [str(ex) + EOS_TOKEN for ex in X_test]"
      ],
      "metadata": {
        "id": "1jkHHLdRmJke"
      },
      "execution_count": 52,
      "outputs": []
    },
    {
      "cell_type": "code",
      "source": [
        "X_train_ = [tokenizer(str(x), return_tensors='tf', max_length=MAX_LENGTH, truncation=True, pad_to_max_length=True, add_special_tokens=True)['input_ids'] for x in X_train]\n",
        "X_test_ = [tokenizer(str(x), return_tensors='tf', max_length=MAX_LENGTH, truncation=True, pad_to_max_length=True, add_special_tokens=True)['input_ids'] for x in X_test]\n",
        "\n",
        "X_train_in = tf.squeeze(tf.convert_to_tensor(X_train_), axis=1)\n",
        "X_test_in = tf.squeeze(tf.convert_to_tensor(X_test_), axis=1)\n"
      ],
      "metadata": {
        "id": "LFSsdK2BmJn3",
        "colab": {
          "base_uri": "https://localhost:8080/"
        },
        "outputId": "17aa9e66-1b8c-46aa-e491-8da1ac96b819"
      },
      "execution_count": 53,
      "outputs": [
        {
          "output_type": "stream",
          "name": "stderr",
          "text": [
            "/usr/local/lib/python3.10/dist-packages/transformers/tokenization_utils_base.py:2418: FutureWarning: The `pad_to_max_length` argument is deprecated and will be removed in a future version, use `padding=True` or `padding='longest'` to pad to the longest sequence in the batch, or use `padding='max_length'` to pad to a max length. In this case, you can give a specific length with `max_length` (e.g. `max_length=45`) or leave max_length to None to pad to the maximal input size of the model (e.g. 512 for Bert).\n",
            "  warnings.warn(\n"
          ]
        }
      ]
    },
    {
      "cell_type": "code",
      "source": [
        "X_train_in[0]"
      ],
      "metadata": {
        "id": "sPJX3UH5mJq0",
        "colab": {
          "base_uri": "https://localhost:8080/"
        },
        "outputId": "f22816a6-0d6f-4c1a-beae-f5f0d551ecdf"
      },
      "execution_count": 54,
      "outputs": [
        {
          "output_type": "execute_result",
          "data": {
            "text/plain": [
              "<tf.Tensor: shape=(234,), dtype=int32, numpy=\n",
              "array([ 1212,   318,  3675,   257,  9082,   286,   257,  4719,   262,\n",
              "        4112,  5290,  3807,   314,   423,  1683,  1775,    13,   632,\n",
              "         338,   587,   257,   890,   640,  1201,   314,  1053,  1775,\n",
              "         340,    11,   475,   262, 14532,   389,  5626,  8258,    11,\n",
              "         262,  7110,   318, 32258,   329,  3826,   540,    11,  4585,\n",
              "         262,  1388,  3435,  8531,   318,   284, 22056,  8515,   511,\n",
              "        4430,   986,  1018,   456,     0,   314,   655,  2227,   284,\n",
              "       10862,  4186, 21418,   290,   787,   683,  3960,   780,   339,\n",
              "       18359,   734,  2250,   286,   616,  1204,   618,   314,   373,\n",
              "        1760,  4964,   428,  3704,   286, 29932,  1226,   400,    13,\n",
              "         314,   836,   470,   772,   760,  1521,   314,  1683,  2227,\n",
              "         284,  2342,   340,    11,   475,  3505,   611,   345,   766,\n",
              "         428,  3807,    25, 23917,     6,    51, 45687,   314, 35697,\n",
              "          45,     6,    51, 42660,  7013, 29847,  1671,  1220,  6927,\n",
              "        1671, 11037,  3705,  4186, 21418,   338,  2095, 33041,   257,\n",
              "        3496,   287,   428,  3807,  1444,   366,    40,  1101,  2011,\n",
              "       11744,  5675, 11358,   526,   399,  1648,   531,    13, 50256,\n",
              "       50257, 50257, 50257, 50257, 50257, 50257, 50257, 50257, 50257,\n",
              "       50257, 50257, 50257, 50257, 50257, 50257, 50257, 50257, 50257,\n",
              "       50257, 50257, 50257, 50257, 50257, 50257, 50257, 50257, 50257,\n",
              "       50257, 50257, 50257, 50257, 50257, 50257, 50257, 50257, 50257,\n",
              "       50257, 50257, 50257, 50257, 50257, 50257, 50257, 50257, 50257,\n",
              "       50257, 50257, 50257, 50257, 50257, 50257, 50257, 50257, 50257,\n",
              "       50257, 50257, 50257, 50257, 50257, 50257, 50257, 50257, 50257,\n",
              "       50257, 50257, 50257, 50257, 50257, 50257, 50257, 50257, 50257,\n",
              "       50257, 50257, 50257, 50257, 50257, 50257, 50257, 50257, 50257],\n",
              "      dtype=int32)>"
            ]
          },
          "metadata": {},
          "execution_count": 54
        }
      ]
    },
    {
      "cell_type": "code",
      "source": [
        "X_train_mask_ = [tokenizer(str(x), return_tensors='tf', max_length=MAX_LENGTH, truncation=True, pad_to_max_length=True, add_special_tokens=True)[\"attention_mask\"] for x in X_train]\n",
        "X_test_mask_ = [tokenizer(str(x), return_tensors='tf', max_length=MAX_LENGTH, truncation=True, pad_to_max_length=True, add_special_tokens=True)[\"attention_mask\"] for x in X_test]\n",
        "\n",
        "X_train_mask = tf.squeeze(tf.convert_to_tensor(X_train_mask_), axis=1)\n",
        "X_test_mask = tf.squeeze(tf.convert_to_tensor(X_test_mask_), axis=1)"
      ],
      "metadata": {
        "id": "eu1UUcAUmJty"
      },
      "execution_count": 55,
      "outputs": []
    },
    {
      "cell_type": "code",
      "source": [
        "model = TFGPT2Model.from_pretrained(\"gpt2\", use_cache=False,\n",
        "        pad_token_id=tokenizer.pad_token_id,\n",
        "        eos_token_id=tokenizer.eos_token_id)\n",
        "\n",
        "model.training = True"
      ],
      "metadata": {
        "id": "yd1MnVTlmJxV",
        "colab": {
          "base_uri": "https://localhost:8080/"
        },
        "outputId": "8be51bf6-8135-4005-f6e6-5f41ea6a79bb"
      },
      "execution_count": 56,
      "outputs": [
        {
          "output_type": "stream",
          "name": "stderr",
          "text": [
            "All PyTorch model weights were used when initializing TFGPT2Model.\n",
            "\n",
            "All the weights of TFGPT2Model were initialized from the PyTorch model.\n",
            "If your task is similar to the task the model of the checkpoint was trained on, you can already use TFGPT2Model for predictions without further training.\n"
          ]
        }
      ]
    },
    {
      "cell_type": "code",
      "source": [
        "model.resize_token_embeddings(len(tokenizer))"
      ],
      "metadata": {
        "id": "02Vue1ammJ04",
        "colab": {
          "base_uri": "https://localhost:8080/"
        },
        "outputId": "50c6f795-7dc1-4cd6-fda6-4d11a567d79f"
      },
      "execution_count": 57,
      "outputs": [
        {
          "output_type": "execute_result",
          "data": {
            "text/plain": [
              "<keras.layers.core.embedding.Embedding at 0x79b47f1be980>"
            ]
          },
          "metadata": {},
          "execution_count": 57
        }
      ]
    },
    {
      "cell_type": "code",
      "source": [
        "\n",
        "for layer in model.layers:\n",
        "    layer.trainable = False"
      ],
      "metadata": {
        "id": "SnUG4XPLmJ-t"
      },
      "execution_count": 58,
      "outputs": []
    },
    {
      "cell_type": "code",
      "source": [
        "model.summary()"
      ],
      "metadata": {
        "id": "gVnPYPQkmKCI",
        "colab": {
          "base_uri": "https://localhost:8080/"
        },
        "outputId": "d78853b4-6b09-4537-f75a-7f74dfc44d34"
      },
      "execution_count": 59,
      "outputs": [
        {
          "output_type": "stream",
          "name": "stdout",
          "text": [
            "Model: \"tfgpt2_model_1\"\n",
            "_________________________________________________________________\n",
            " Layer (type)                Output Shape              Param #   \n",
            "=================================================================\n",
            " transformer (TFGPT2MainLaye  multiple                 124440576 \n",
            " r)                                                              \n",
            "                                                                 \n",
            "=================================================================\n",
            "Total params: 124,440,576\n",
            "Trainable params: 0\n",
            "Non-trainable params: 124,440,576\n",
            "_________________________________________________________________\n"
          ]
        }
      ]
    },
    {
      "cell_type": "code",
      "source": [
        "!pip install --upgrade keras"
      ],
      "metadata": {
        "id": "3O1TaPiV0XtH",
        "colab": {
          "base_uri": "https://localhost:8080/"
        },
        "outputId": "22d37081-e594-4e19-acd5-52271a6f324b"
      },
      "execution_count": 61,
      "outputs": [
        {
          "output_type": "stream",
          "name": "stdout",
          "text": [
            "Requirement already satisfied: keras in /usr/local/lib/python3.10/dist-packages (2.13.1)\n"
          ]
        }
      ]
    },
    {
      "cell_type": "code",
      "source": [
        "input = tf.keras.layers.Input(shape=(None,), dtype='int32')\n",
        "mask = tf.keras.layers.Input(shape=(None,), dtype='int32')\n",
        "x = model(input, attention_mask=mask)\n",
        "#x = x.last_hidden_state[:, -1]\n",
        "x = tf.reduce_mean(x.last_hidden_state, axis=1)\n",
        "x = tf.keras.layers.Dense(16,activation='relu')(x)\n",
        "x = tf.keras.layers.Dropout(0.3)(x)\n",
        "output = tf.keras.layers.Dense(3,activation='softmax')(x)"
      ],
      "metadata": {
        "id": "SYdWtFmfm2GW"
      },
      "execution_count": 62,
      "outputs": []
    },
    {
      "cell_type": "code",
      "source": [
        "clf = tf.keras.Model([input, mask], output)"
      ],
      "metadata": {
        "id": "i6wOSQl2m2KI"
      },
      "execution_count": 63,
      "outputs": []
    },
    {
      "cell_type": "code",
      "source": [
        "clf.summary()"
      ],
      "metadata": {
        "id": "kUqeAdUwm2Nk",
        "colab": {
          "base_uri": "https://localhost:8080/"
        },
        "outputId": "18b0325c-9fd4-40a4-b812-b02ae6837d63"
      },
      "execution_count": 64,
      "outputs": [
        {
          "output_type": "stream",
          "name": "stdout",
          "text": [
            "Model: \"model_1\"\n",
            "__________________________________________________________________________________________________\n",
            " Layer (type)                   Output Shape         Param #     Connected to                     \n",
            "==================================================================================================\n",
            " input_3 (InputLayer)           [(None, None)]       0           []                               \n",
            "                                                                                                  \n",
            " input_4 (InputLayer)           [(None, None)]       0           []                               \n",
            "                                                                                                  \n",
            " tfgpt2_model_1 (TFGPT2Model)   TFBaseModelOutputWi  124440576   ['input_3[0][0]',                \n",
            "                                thPastAndCrossAtten               'input_4[0][0]']                \n",
            "                                tions(last_hidden_s                                               \n",
            "                                tate=(None, None, 7                                               \n",
            "                                68),                                                              \n",
            "                                 past_key_values=No                                               \n",
            "                                ne, hidden_states=N                                               \n",
            "                                one, attentions=Non                                               \n",
            "                                e, cross_attentions                                               \n",
            "                                =None)                                                            \n",
            "                                                                                                  \n",
            " tf.math.reduce_mean_1 (TFOpLam  (None, 768)         0           ['tfgpt2_model_1[0][0]']         \n",
            " bda)                                                                                             \n",
            "                                                                                                  \n",
            " dense_2 (Dense)                (None, 16)           12304       ['tf.math.reduce_mean_1[0][0]']  \n",
            "                                                                                                  \n",
            " dropout_75 (Dropout)           (None, 16)           0           ['dense_2[0][0]']                \n",
            "                                                                                                  \n",
            " dense_3 (Dense)                (None, 3)            51          ['dropout_75[0][0]']             \n",
            "                                                                                                  \n",
            "==================================================================================================\n",
            "Total params: 124,452,931\n",
            "Trainable params: 12,355\n",
            "Non-trainable params: 124,440,576\n",
            "__________________________________________________________________________________________________\n"
          ]
        }
      ]
    },
    {
      "cell_type": "code",
      "source": [
        "base_learning_rate = 0.0005\n",
        "optimizer=tf.keras.optimizers.Adam(learning_rate=base_learning_rate)\n",
        "#loss=tf.keras.losses.BinaryCrossentropy()\n",
        "loss=tf.keras.losses.SparseCategoricalCrossentropy()\n",
        "\n",
        "clf.compile(optimizer=optimizer, loss=loss, metrics=['accuracy'])"
      ],
      "metadata": {
        "id": "lFQLX3yom2Qt"
      },
      "execution_count": 65,
      "outputs": []
    },
    {
      "cell_type": "code",
      "source": [
        "callbacks = tf.keras.callbacks.EarlyStopping(\n",
        "        monitor=\"accuracy\", verbose=1, patience=3, restore_best_weights=True)\n"
      ],
      "metadata": {
        "id": "PTwhKi8-m2Tv"
      },
      "execution_count": 66,
      "outputs": []
    },
    {
      "cell_type": "code",
      "source": [
        "y_train_in = tf.constant(y_train, dtype=tf.int32)\n",
        "y_test_in = tf.constant(y_test, dtype=tf.int32)"
      ],
      "metadata": {
        "id": "g5IYADVZ4F6u"
      },
      "execution_count": 67,
      "outputs": []
    },
    {
      "cell_type": "code",
      "source": [
        "tf.config.experimental_run_functions_eagerly(True)"
      ],
      "metadata": {
        "id": "pJO9hHi04GBB"
      },
      "execution_count": 68,
      "outputs": []
    },
    {
      "cell_type": "code",
      "source": [
        "import time"
      ],
      "metadata": {
        "id": "TMaYS9k7hy2B"
      },
      "execution_count": 69,
      "outputs": []
    },
    {
      "cell_type": "code",
      "source": [
        "%%time\n",
        "start_time = time.time()  # Record the start time\n",
        "history = clf.fit([X_train_in, X_train_mask], y_train_in, epochs=5, batch_size=8, validation_split=0.2, callbacks=callbacks)\n",
        "end_time = time.time()  # Record the end time\n",
        "training_time = end_time - start_time  # Calculate the training time\n",
        "print(f\"Training time: {training_time:.2f} seconds\")"
      ],
      "metadata": {
        "id": "JOd5WLKV4mio",
        "colab": {
          "base_uri": "https://localhost:8080/"
        },
        "outputId": "03d01112-7001-4b8f-f885-f9e85381cb3e"
      },
      "execution_count": 70,
      "outputs": [
        {
          "output_type": "stream",
          "name": "stdout",
          "text": [
            "Epoch 1/5\n"
          ]
        },
        {
          "output_type": "stream",
          "name": "stderr",
          "text": [
            "/usr/local/lib/python3.10/dist-packages/tensorflow/python/data/ops/structured_function.py:254: UserWarning: Even though the `tf.config.experimental_run_functions_eagerly` option is set, this option does not apply to tf.data functions. To force eager execution of tf.data functions, please use `tf.data.experimental.enable_debug_mode()`.\n",
            "  warnings.warn(\n"
          ]
        },
        {
          "output_type": "stream",
          "name": "stdout",
          "text": [
            "3750/3750 [==============================] - 2310s 616ms/step - loss: 0.7354 - accuracy: 0.6554 - val_loss: 0.4285 - val_accuracy: 0.8287\n",
            "Epoch 2/5\n",
            "3750/3750 [==============================] - 2330s 621ms/step - loss: 0.4956 - accuracy: 0.7269 - val_loss: 0.4100 - val_accuracy: 0.8185\n",
            "Epoch 3/5\n",
            "3750/3750 [==============================] - 2403s 641ms/step - loss: 0.4606 - accuracy: 0.7675 - val_loss: 0.3559 - val_accuracy: 0.8431\n",
            "Epoch 4/5\n",
            "3750/3750 [==============================] - 2355s 628ms/step - loss: 0.4314 - accuracy: 0.8024 - val_loss: 0.3672 - val_accuracy: 0.8348\n",
            "Epoch 5/5\n",
            "3750/3750 [==============================] - 2371s 632ms/step - loss: 0.4182 - accuracy: 0.8082 - val_loss: 0.3345 - val_accuracy: 0.8556\n",
            "Training time: 11768.87 seconds\n",
            "CPU times: user 2h 54min 49s, sys: 2min 35s, total: 2h 57min 25s\n",
            "Wall time: 3h 16min 8s\n"
          ]
        }
      ]
    },
    {
      "cell_type": "code",
      "source": [
        "# Access validation accuracy values from the history\n",
        "\n",
        "validation_accuracy_values = history.history['val_accuracy']\n",
        "\n",
        "# Calculate the average validation accuracy\n",
        "average_validation_accuracy = sum(validation_accuracy_values) / len(validation_accuracy_values)\n",
        "\n",
        "print(f\"Average Validation Accuracy: {average_validation_accuracy:.4f}\")\n"
      ],
      "metadata": {
        "colab": {
          "base_uri": "https://localhost:8080/"
        },
        "id": "VJP48-5d0i8m",
        "outputId": "b098cfa9-e79e-461d-8535-f280d2f67e85"
      },
      "execution_count": 83,
      "outputs": [
        {
          "output_type": "stream",
          "name": "stdout",
          "text": [
            "Average Validation Accuracy: 0.8361\n"
          ]
        }
      ]
    },
    {
      "cell_type": "code",
      "source": [
        "X_test_in.shape"
      ],
      "metadata": {
        "colab": {
          "base_uri": "https://localhost:8080/"
        },
        "id": "E1PEo94_2L5b",
        "outputId": "e88b89d7-f71c-4c1d-dfee-1c88f455621d"
      },
      "execution_count": 85,
      "outputs": [
        {
          "output_type": "execute_result",
          "data": {
            "text/plain": [
              "TensorShape([12500, 234])"
            ]
          },
          "metadata": {},
          "execution_count": 85
        }
      ]
    },
    {
      "cell_type": "code",
      "source": [
        "clf.evaluate([X_test_in, X_test_mask], y_test_in)"
      ],
      "metadata": {
        "id": "2aRVOfDq4mmt",
        "colab": {
          "base_uri": "https://localhost:8080/"
        },
        "outputId": "899d5a4d-e01b-4099-b2e1-69fc417f48fd"
      },
      "execution_count": 71,
      "outputs": [
        {
          "output_type": "stream",
          "name": "stdout",
          "text": [
            "391/391 [==============================] - 242s 618ms/step - loss: 0.3219 - accuracy: 0.8609\n"
          ]
        },
        {
          "output_type": "execute_result",
          "data": {
            "text/plain": [
              "[0.3219367265701294, 0.8608800172805786]"
            ]
          },
          "metadata": {},
          "execution_count": 71
        }
      ]
    },
    {
      "cell_type": "code",
      "source": [
        "\n",
        "clf.training = False\n",
        "y_pred = clf.predict([X_test_in, X_test_mask])"
      ],
      "metadata": {
        "id": "wGdQlRpS4mq4",
        "colab": {
          "base_uri": "https://localhost:8080/"
        },
        "outputId": "fd5d2513-e5eb-4b70-a5c9-de0ae5a4deb1"
      },
      "execution_count": 72,
      "outputs": [
        {
          "output_type": "stream",
          "name": "stdout",
          "text": [
            "391/391 [==============================] - 237s 607ms/step\n"
          ]
        }
      ]
    },
    {
      "cell_type": "code",
      "source": [
        "\n",
        "y_pred_out = tf.math.argmax(y_pred, axis=-1)\n",
        "y_pred_out"
      ],
      "metadata": {
        "id": "jzZfJzzS4mvB",
        "colab": {
          "base_uri": "https://localhost:8080/"
        },
        "outputId": "694f15bb-4a4a-46ef-ad3e-5f39ae4d5ca3"
      },
      "execution_count": 73,
      "outputs": [
        {
          "output_type": "execute_result",
          "data": {
            "text/plain": [
              "<tf.Tensor: shape=(12500,), dtype=int64, numpy=array([1, 0, 1, ..., 1, 1, 0])>"
            ]
          },
          "metadata": {},
          "execution_count": 73
        }
      ]
    },
    {
      "cell_type": "code",
      "source": [
        "from matplotlib import pyplot as plt\n",
        "import seaborn as sns\n",
        "from sklearn.metrics import confusion_matrix\n",
        "from sklearn.metrics import classification_report"
      ],
      "metadata": {
        "id": "ogdiwPDl5Dx_"
      },
      "execution_count": 74,
      "outputs": []
    },
    {
      "cell_type": "code",
      "source": [
        "\n",
        "print(classification_report(y_test_in, y_pred_out))\n"
      ],
      "metadata": {
        "id": "ZECq5Iea5D1X",
        "colab": {
          "base_uri": "https://localhost:8080/"
        },
        "outputId": "bea709c2-fb99-4cf6-f89c-7afacb754b90"
      },
      "execution_count": 75,
      "outputs": [
        {
          "output_type": "stream",
          "name": "stdout",
          "text": [
            "              precision    recall  f1-score   support\n",
            "\n",
            "           0       0.87      0.84      0.86      6250\n",
            "           1       0.85      0.88      0.86      6250\n",
            "\n",
            "    accuracy                           0.86     12500\n",
            "   macro avg       0.86      0.86      0.86     12500\n",
            "weighted avg       0.86      0.86      0.86     12500\n",
            "\n"
          ]
        }
      ]
    },
    {
      "cell_type": "code",
      "source": [
        "evaluation_results=classification_report(y_test_in, y_pred_out)"
      ],
      "metadata": {
        "id": "gBsYbEHp4dNA"
      },
      "execution_count": 87,
      "outputs": []
    },
    {
      "cell_type": "code",
      "source": [
        "import numpy as np"
      ],
      "metadata": {
        "id": "9fps1tkj44Kw"
      },
      "execution_count": 90,
      "outputs": []
    },
    {
      "cell_type": "code",
      "source": [],
      "metadata": {
        "id": "lNw0OXdM4iLF"
      },
      "execution_count": 95,
      "outputs": []
    },
    {
      "cell_type": "code",
      "source": [
        "target_names = ['Negative', 'Positive',]\n",
        "print(classification_report(y_test_in, y_pred_out,target_names=target_names))"
      ],
      "metadata": {
        "colab": {
          "base_uri": "https://localhost:8080/"
        },
        "id": "IeMX8rcL4-P2",
        "outputId": "1a60efc6-42ef-405c-c698-3529ad4f9915"
      },
      "execution_count": 99,
      "outputs": [
        {
          "output_type": "stream",
          "name": "stdout",
          "text": [
            "              precision    recall  f1-score   support\n",
            "\n",
            "    Negative       0.87      0.84      0.86      6250\n",
            "    Positive       0.85      0.88      0.86      6250\n",
            "\n",
            "    accuracy                           0.86     12500\n",
            "   macro avg       0.86      0.86      0.86     12500\n",
            "weighted avg       0.86      0.86      0.86     12500\n",
            "\n"
          ]
        }
      ]
    },
    {
      "cell_type": "code",
      "source": [
        "y_test_in_np = np.array(y_test_in)\n",
        "y_pred_out_np = np.array(y_pred_out)"
      ],
      "metadata": {
        "id": "SSHYSeoR9pVH"
      },
      "execution_count": 100,
      "outputs": []
    },
    {
      "cell_type": "code",
      "source": [
        "# Calculate True Positives (TP), True Negatives (TN), False Positives (FP), and False Negatives (FN)\n",
        "TP = np.sum((y_test_in_np == 1) & (y_pred_out_np == 1))\n",
        "TN = np.sum((y_test_in_np == 0) & (y_pred_out_np == 0))\n",
        "FP = np.sum((y_test_in_np == 0) & (y_pred_out_np == 1))\n",
        "FN = np.sum((y_test_in_np == 1) & (y_pred_out_np == 0))\n",
        "\n",
        "print(f\"True Positives (TP): {TP}\")\n",
        "print(f\"True Negatives (TN): {TN}\")\n",
        "print(f\"False Positives (FP): {FP}\")\n",
        "print(f\"False Negatives (FN): {FN}\")"
      ],
      "metadata": {
        "colab": {
          "base_uri": "https://localhost:8080/"
        },
        "id": "DiP0G8cM9pYb",
        "outputId": "8d14ce04-9358-42bc-ca25-39ef3df8a853"
      },
      "execution_count": 101,
      "outputs": [
        {
          "output_type": "stream",
          "name": "stdout",
          "text": [
            "True Positives (TP): 5480\n",
            "True Negatives (TN): 5281\n",
            "False Positives (FP): 969\n",
            "False Negatives (FN): 770\n"
          ]
        }
      ]
    },
    {
      "cell_type": "code",
      "source": [
        "from sklearn.metrics import confusion_matrix,roc_curve\n",
        "import numpy as np\n",
        "import seaborn as sns\n",
        "\n",
        "conf_matrix = np.array([[TN, FP],\n",
        "                        [FN, TP]])\n",
        "\n",
        "# Plot Confusion Matrix as a Heatmap\n",
        "class_names = ['Negative', 'Positive']\n",
        "plt.figure(figsize=(8, 6))\n",
        "sns.heatmap(conf_matrix, annot=True, fmt=\".0f\", cmap=\"Blues\", xticklabels=class_names, yticklabels=class_names)\n",
        "plt.title('Confusion Matrix')\n",
        "plt.xlabel('Predicted Labels')\n",
        "plt.ylabel('True Labels')\n",
        "plt.show()"
      ],
      "metadata": {
        "colab": {
          "base_uri": "https://localhost:8080/",
          "height": 564
        },
        "id": "25md0IfX9195",
        "outputId": "86f896de-5677-4235-c14b-4c53625f5991"
      },
      "execution_count": 102,
      "outputs": [
        {
          "output_type": "display_data",
          "data": {
            "text/plain": [
              "<Figure size 800x600 with 2 Axes>"
            ],
            "image/png": "[encoded data removed]"
          },
          "metadata": {}
        }
      ]
    }
  ]
}